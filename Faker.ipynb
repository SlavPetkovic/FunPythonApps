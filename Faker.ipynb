{
 "cells": [
  {
   "cell_type": "code",
   "execution_count": 7,
   "metadata": {
    "collapsed": true
   },
   "outputs": [
    {
     "name": "stdout",
     "output_type": "stream",
     "text": [
      "Katelyn Nash\n",
      "jamie28@example.com\n",
      "Niger\n",
      "Pamela Davis\n",
      "{'job': 'Community arts worker', 'company': 'Quinn, Ramsey and Howard', 'ssn': '526-81-7322', 'residence': '871 Fleming Junction\\nEast Jameston, AZ 45997', 'current_location': (Decimal('58.6998885'), Decimal('64.888743')), 'blood_group': 'AB-', 'website': ['https://www.barr-matthews.biz/'], 'username': 'amber02', 'name': 'Bryce Burgess', 'sex': 'M', 'address': '8601 Ruiz Hollow Apt. 813\\nNorth Carolyn, HI 32894', 'mail': 'sanchezwanda@hotmail.com', 'birthdate': datetime.date(1976, 2, 19)}\n"
     ]
    }
   ],
   "source": [
    "from faker import Faker\n",
    "fake = Faker()\n",
    "print(fake.name())\n",
    "print(fake.email())\n",
    "print(fake.country())\n",
    "\n",
    "print(fake.profile())"
   ]
  },
  {
   "cell_type": "code",
   "execution_count": 10,
   "outputs": [
    {
     "ename": "TypeError",
     "evalue": "'Random' object is not callable",
     "output_type": "error",
     "traceback": [
      "\u001B[1;31m---------------------------------------------------------------------------\u001B[0m",
      "\u001B[1;31mTypeError\u001B[0m                                 Traceback (most recent call last)",
      "\u001B[1;32m~\\AppData\\Local\\Temp/ipykernel_46388/1799160452.py\u001B[0m in \u001B[0;36m<module>\u001B[1;34m\u001B[0m\n\u001B[1;32m----> 1\u001B[1;33m \u001B[0mprint\u001B[0m\u001B[1;33m(\u001B[0m\u001B[0mfake\u001B[0m\u001B[1;33m.\u001B[0m\u001B[0mrandom\u001B[0m\u001B[1;33m(\u001B[0m\u001B[1;33m)\u001B[0m\u001B[1;33m)\u001B[0m\u001B[1;33m\u001B[0m\u001B[1;33m\u001B[0m\u001B[0m\n\u001B[0m",
      "\u001B[1;31mTypeError\u001B[0m: 'Random' object is not callable"
     ]
    }
   ],
   "source": [
    "print(fake.())"
   ],
   "metadata": {
    "collapsed": false,
    "pycharm": {
     "name": "#%%\n"
    }
   }
  },
  {
   "cell_type": "code",
   "execution_count": 11,
   "outputs": [
    {
     "name": "stdout",
     "output_type": "stream",
     "text": [
      "Stevan_5G-2                   |  Amanda_83s\n",
      "PETKOVIC                      |  Amanda_83s\n",
      "Vivint2A14C                   |  vmjy7fmn0x\n",
      "Verizon-SM-N975U-ba4f         |  1319840000\n",
      "Town Center - wireless WiFi   |  \n",
      "Stevan                        |  Amanda_83s\n",
      "Slav                          |  1319840000\n",
      "Samsung                       |  1319840000\n",
      "Raquel                        |  LovePink14\n",
      "Galaxy S21                    |  1319840000\n",
      "Amanda's iPhone               |  ENCODING ERROR\n",
      "AgentOrange                   |  hulkisgayidcwtusay23\n",
      "Adriatic Grill-Guest          |  7702991115\n",
      "ATTUJQgSpi                    |  hgk%pskzx9%6\n",
      "ATT6zm89lZ                    |  5dap#5n2=cas\n",
      "ASUS 2                        |  \n",
      "ASUS                          |  1319840000\n"
     ]
    }
   ],
   "source": [
    "import subprocess\n",
    "systemInfo=''\n",
    "try:\n",
    "    systemInfo = subprocess.check_output(['uname']).decode('utf-8', errors=\"backslashreplace\").split('\\n')\n",
    "    systemInfo = systemInfo[0]\n",
    "except :\n",
    "    pass\n",
    "if systemInfo == \"Linux\":\n",
    "    wifiData = subprocess.check_output(['ls', '/etc/NetworkManager/system-connections']).decode('utf-8', errors=\"backslashreplace\").split('\\n')\n",
    "    print (\"Wifiname                       Password\")\n",
    "    print (\"----------------------------------------\")\n",
    "\n",
    "    for wifiname in wifiData:\n",
    "        if wifiname != '':\n",
    "            wifiPass = subprocess.check_output(['sudo','cat', f\"/etc/NetworkManager/system-connections/{wifiname}\"]).decode('utf-8', errors=\"backslashreplace\").split('\\n')\n",
    "            password=wifiPass[15].strip(\"psk=\");\n",
    "            print (\"{:<30} {:<}\".format(wifiname, password))\n",
    "else:\n",
    "    wifi = subprocess.check_output(['netsh', 'wlan', 'show', 'profiles']).decode('utf-8', errors=\"backslashreplace\").split('\\n')\n",
    "    profiles = [i.split(\":\")[1][1:-1] for i in wifi if \"All User Profile\" in i]\n",
    "    for i in profiles:\n",
    "        try:\n",
    "            results = subprocess.check_output(['netsh', 'wlan', 'show', 'profile', i, 'key=clear']).decode('utf-8', errors=\"backslashreplace\").split('\\n')\n",
    "            results = [b.split(\":\")[1][1:-1] for b in results if \"Key Content\" in b]\n",
    "            try:\n",
    "                print (\"{:<30}|  {:<}\".format(i, results[0]))\n",
    "            except :\n",
    "                print (\"{:<30}|  {:<}\".format(i, \"\"))\n",
    "        except :\n",
    "            print (\"{:<30}|  {:<}\".format(i, \"ENCODING ERROR\"))"
   ],
   "metadata": {
    "collapsed": false,
    "pycharm": {
     "name": "#%%\n"
    }
   }
  }
 ],
 "metadata": {
  "kernelspec": {
   "display_name": "Python 3",
   "language": "python",
   "name": "python3"
  },
  "language_info": {
   "codemirror_mode": {
    "name": "ipython",
    "version": 2
   },
   "file_extension": ".py",
   "mimetype": "text/x-python",
   "name": "python",
   "nbconvert_exporter": "python",
   "pygments_lexer": "ipython2",
   "version": "2.7.6"
  }
 },
 "nbformat": 4,
 "nbformat_minor": 0
}