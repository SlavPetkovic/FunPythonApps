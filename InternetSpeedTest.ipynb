{
 "cells": [
  {
   "cell_type": "code",
   "execution_count": 16,
   "metadata": {
    "collapsed": true
   },
   "outputs": [
    {
     "name": "stdout",
     "output_type": "stream",
     "text": [
      "-------------------------------------------------\n",
      "Your Ping is 20.811\n",
      "Your Download speed is 91.78559893950731 Mbs\n",
      "Your Upload speed is 64.44416498939398 Mbs\n",
      "-------------------------------------------------\n",
      "SERVER INFORMATION\n",
      "url  :  http://atl.speedtest.pavlovmedia.net:8080/speedtest/upload.php\n",
      "lat  :  33.7483\n",
      "lon  :  -84.3911\n",
      "name  :  Atlanta, GA\n",
      "country  :  United States\n",
      "cc  :  US\n",
      "sponsor  :  Pavlov Media\n",
      "id  :  5296\n",
      "host  :  atl.speedtest.pavlovmedia.net:8080\n",
      "d  :  54.403124475171275\n",
      "latency  :  15.371\n",
      "-------------------------------------------------\n"
     ]
    }
   ],
   "source": [
    "# -----------------------------------------------------------#\n",
    "# Internet Speed Test\n",
    "# Install \"pip install speedtest-cli\"\n",
    "#------------------------------------------------------------#\n",
    "\n",
    "# Import Dependencies\n",
    "import speedtest\n",
    "import inspect\n",
    "\n",
    "# Create st method\n",
    "st = speedtest.Speedtest()\n",
    "# Create download test object\n",
    "d_st = st.download()\n",
    "# Create upload test object\n",
    "u_st = st.upload()\n",
    "# Create ping object\n",
    "ping = st.results.ping\n",
    "# Display the result\n",
    "print(\"-------------------------------------------------\")\n",
    "print(\"Your Ping is\", ping)\n",
    "print(\"Your Download speed is\", d_st/1000000, \"Mbs\")\n",
    "print(\"Your Upload speed is\", u_st/1000000, \"Mbs\")\n",
    "print(\"-------------------------------------------------\")\n",
    "print(\"SERVER INFORMATION\")\n",
    "best_server = st.get_best_server()\n",
    "for key, value in best_server.items():\n",
    "    print(key, ' : ', value)\n",
    "print(\"-------------------------------------------------\")"
   ]
  },
  {
   "cell_type": "code",
   "execution_count": 16,
   "outputs": [],
   "source": [],
   "metadata": {
    "collapsed": false,
    "pycharm": {
     "name": "#%%\n"
    }
   }
  }
 ],
 "metadata": {
  "kernelspec": {
   "display_name": "Python 3",
   "language": "python",
   "name": "python3"
  },
  "language_info": {
   "codemirror_mode": {
    "name": "ipython",
    "version": 2
   },
   "file_extension": ".py",
   "mimetype": "text/x-python",
   "name": "python",
   "nbconvert_exporter": "python",
   "pygments_lexer": "ipython2",
   "version": "2.7.6"
  }
 },
 "nbformat": 4,
 "nbformat_minor": 0
}