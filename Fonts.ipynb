{
 "cells": [
  {
   "cell_type": "code",
   "execution_count": 1,
   "outputs": [
    {
     "name": "stdout",
     "output_type": "stream",
     "text": [
      "------------------------------------------------------------------\n",
      "   _____    __                                        \n",
      "  / ___/   / /_   ___     _   __   ____ _   ____      \n",
      "  \\__ \\   / __/  / _ \\   | | / /  / __ `/  / __ \\     \n",
      " ___/ /  / /_   /  __/   | |/ /  / /_/ /  / / / /     \n",
      "/____/   \\__/   \\___/    |___/   \\__,_/  /_/ /_/      \n",
      "                                                      \n",
      "    ____             __     __                        _        \n",
      "   / __ \\   ___     / /_   / /__   ____     _   __   (_)  _____\n",
      "  / /_/ /  / _ \\   / __/  / //_/  / __ \\   | | / /  / /  / ___/\n",
      " / ____/  /  __/  / /_   / ,<    / /_/ /   | |/ /  / /  / /__  \n",
      "/_/       \\___/   \\__/  /_/|_|   \\____/    |___/  /_/   \\___/  \n",
      "                                                               \n",
      "\n",
      "------------------------------------------------------------------\n"
     ]
    }
   ],
   "source": [
    "from pyfiglet import Figlet\n",
    "str = Figlet(font=\"slant\")\n",
    "print(\"------------------------------------------------------------------\")\n",
    "print(str.renderText(\"S t e v a n \\n\"\n",
    "                     \"P e t k o v i c\"))\n",
    "print(\"------------------------------------------------------------------\")"
   ],
   "metadata": {
    "collapsed": false,
    "pycharm": {
     "name": "#%%\n"
    }
   }
  }
 ],
 "metadata": {
  "kernelspec": {
   "display_name": "Python 3",
   "language": "python",
   "name": "python3"
  },
  "language_info": {
   "codemirror_mode": {
    "name": "ipython",
    "version": 2
   },
   "file_extension": ".py",
   "mimetype": "text/x-python",
   "name": "python",
   "nbconvert_exporter": "python",
   "pygments_lexer": "ipython2",
   "version": "2.7.6"
  }
 },
 "nbformat": 4,
 "nbformat_minor": 0
}